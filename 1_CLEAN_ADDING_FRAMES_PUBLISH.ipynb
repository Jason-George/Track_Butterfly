{
  "nbformat": 4,
  "nbformat_minor": 0,
  "metadata": {
    "colab": {
      "provenance": []
    },
    "kernelspec": {
      "name": "python3",
      "display_name": "Python 3"
    },
    "language_info": {
      "name": "python"
    }
  },
  "cells": [
    {
      "cell_type": "code",
      "source": [
        "from google.colab import drive\n",
        "drive.mount('/content/drive')"
      ],
      "metadata": {
        "colab": {
          "base_uri": "https://localhost:8080/"
        },
        "id": "KOlLjsQnQvls",
        "outputId": "fe91b985-abb2-4f1c-ee19-bd9c6a45e178"
      },
      "execution_count": null,
      "outputs": [
        {
          "output_type": "stream",
          "name": "stdout",
          "text": [
            "Mounted at /content/drive\n"
          ]
        }
      ]
    },
    {
      "cell_type": "code",
      "source": [
        "!pip -q install imageio-ffmpeg"
      ],
      "metadata": {
        "colab": {
          "base_uri": "https://localhost:8080/"
        },
        "id": "INLTHVm26TIU",
        "outputId": "3dc5a7eb-934a-448a-b0a2-21be870cc730"
      },
      "execution_count": null,
      "outputs": [
        {
          "output_type": "stream",
          "name": "stdout",
          "text": [
            "\u001b[2K     \u001b[90m━━━━━━━━━━━━━━━━━━━━━━━━━━━━━━━━━━━━━━━━\u001b[0m \u001b[32m26.9/26.9 MB\u001b[0m \u001b[31m67.2 MB/s\u001b[0m eta \u001b[36m0:00:00\u001b[0m\n",
            "\u001b[?25h"
          ]
        }
      ]
    },
    {
      "cell_type": "code",
      "execution_count": null,
      "metadata": {
        "colab": {
          "base_uri": "https://localhost:8080/",
          "height": 35
        },
        "id": "zGVAD71o1k0e",
        "outputId": "7d5fdd72-d612-42a9-9121-c3dc2fa62d48"
      },
      "outputs": [
        {
          "output_type": "execute_result",
          "data": {
            "text/plain": [
              "'4.6.0'"
            ],
            "application/vnd.google.colaboratory.intrinsic+json": {
              "type": "string"
            }
          },
          "metadata": {},
          "execution_count": 3
        }
      ],
      "source": [
        "import numpy as np\n",
        "from PIL import Image\n",
        "import skimage\n",
        "import imageio\n",
        "#from skimage import morphology\n",
        "import scipy.ndimage, scipy.signal\n",
        "from matplotlib import colors\n",
        "from scipy.spatial import cKDTree as KDTree\n",
        "from scipy.misc import face\n",
        "import cv2\n",
        "import sys\n",
        "#import statistics\n",
        "#import pylab\n",
        "#import matplotlib.pyplot as plt\n",
        "#import seaborn as sns\n",
        "#import gc\n",
        "\n",
        "from google.colab.patches import cv2_imshow\n",
        "\n",
        "cv2.__version__"
      ]
    },
    {
      "cell_type": "code",
      "source": [
        "def format_bytes(size):\n",
        "    # 2**10 = 1024\n",
        "    power = 2**10\n",
        "    n = 0\n",
        "    power_labels = {0 : '', 1: 'kilo', 2: 'mega', 3: 'giga', 4: 'tera'}\n",
        "    while size > power:\n",
        "        size /= power\n",
        "        n += 1\n",
        "    return size, power_labels[n]+'bytes'\n",
        "\n",
        "def apply_brightness_contrast(input_img, brightness = 0, contrast = 0):\n",
        "    \n",
        "    if brightness != 0:\n",
        "        if brightness > 0:\n",
        "            shadow = brightness\n",
        "            highlight = 255\n",
        "        else:\n",
        "            shadow = 0\n",
        "            highlight = 255 + brightness\n",
        "        alpha_b = (highlight - shadow)/255\n",
        "        gamma_b = shadow\n",
        "        \n",
        "        buf = cv2.addWeighted(input_img, alpha_b, input_img, 0, gamma_b)\n",
        "    else:\n",
        "        buf = input_img.copy()\n",
        "    \n",
        "    if contrast != 0:\n",
        "        f = 131*(contrast + 127)/(127*(131-contrast))\n",
        "        alpha_c = f\n",
        "        gamma_c = 127*(1-f)\n",
        "        \n",
        "        buf = cv2.addWeighted(buf, alpha_c, buf, 0, gamma_c)\n",
        "\n",
        "    return buf\n",
        "\n",
        "def func_kdtree(diff,full_imgs,clrs,remove_green=False,remove_blue=False,REDUCED_COLOR_SPACE = True):\n",
        "  IMGYY = []\n",
        "\n",
        "  \n",
        "  # borrow a list of named colors from matplotlib\n",
        "  if REDUCED_COLOR_SPACE:\n",
        "      use_colors = {k: colors.cnames[k] for k in clrs}\n",
        "  else:\n",
        "      use_colors = colors.cnames\n",
        "\n",
        "  # translate hexstring to RGB tuple\n",
        "  named_colors = {k: tuple(map(int, (v[1:3], v[3:5], v[5:7]), 3*(16,)))\n",
        "                  for k, v in use_colors.items()}\n",
        "  ncol = len(named_colors)\n",
        "\n",
        "  if REDUCED_COLOR_SPACE:\n",
        "      ncol -= 1\n",
        "      no_match = named_colors.pop('purple')\n",
        "  else:\n",
        "      no_match = named_colors['purple']\n",
        "\n",
        "  # make an array containing the RGB values \n",
        "  color_tuples = list(named_colors.values())\n",
        "  color_tuples.append(no_match)\n",
        "  color_tuples = np.array(color_tuples)\n",
        "\n",
        "  color_names = list(named_colors)\n",
        "  color_names.append('no match')\n",
        "\n",
        "  len_full_imgs = len(full_imgs)\n",
        "\n",
        "  for n in range(len_full_imgs):\n",
        "    TEMP=[]\n",
        "      \n",
        "    if n >= len_full_imgs-(diff*2):\n",
        "      break\n",
        "    else:\n",
        "      x = full_imgs[n]\n",
        "      y = full_imgs[n+diff]\n",
        "      z = full_imgs[n+(diff*2)]\n",
        "      stacks = np.stack([x,y,z],axis=-1)\n",
        "\n",
        "    \n",
        "    # build tree\n",
        "    tree = KDTree(color_tuples[:-1])\n",
        "    # tolerance for color match `inf` means use best match no matter how\n",
        "    # bad it may be\n",
        "    tolerance = np.inf\n",
        "    # find closest color in tree for each pixel in picture\n",
        "    dist, idx = tree.query(stacks, distance_upper_bound=tolerance)\n",
        "    # count and reattach names\n",
        "    #counts = dict(zip(color_names, np.bincount(idx.ravel(), None, ncol+1)))\n",
        "\n",
        "    reduced_img = color_tuples[idx]\n",
        "\n",
        "    \n",
        "    #print(reduced_img.shape)\n",
        "    if remove_green:\n",
        "      reduced_img[reduced_img[:, :, 1]==128 , 1] = 0\n",
        "\n",
        "    if remove_blue:\n",
        "      reduced_img[np.logical_and(reduced_img[:, :, 0]==255,reduced_img[:, :, 1]==0)]=0\n",
        "    \n",
        "    #if remove_red:\n",
        "     #  reduced_img[np.logical_and(reduced_img[:, :, 0]==255,reduced_img[:, :, 1]==0)]=0\n",
        "\n",
        "\n",
        "    IMGYY.append(reduced_img)\n",
        "\n",
        "  return np.array(IMGYY)\n",
        "\n",
        "'''\n",
        "this below function tries to reduce number of single isolated pixels, that come from\n",
        "movement of leaves in general\n",
        "'''\n",
        "def single_isolated_pixels_strip_AND(frame):\n",
        "  #frame = np.copy(xor_int[NN])\n",
        "  fst = np.where(frame==1)\n",
        "  #print(fst[0].shape,fst[1].shape)\n",
        "\n",
        "\n",
        "  n = 0\n",
        "  pixel_counter=0\n",
        "  dist_pixel=1\n",
        "  leng = len(fst[0])\n",
        "  one_pixel_dist = False\n",
        "\n",
        "  while n<(leng-1):\n",
        "    x1,y1 = fst[0][n],fst[1][n]\n",
        "    x2,y2 = fst[0][n+1],fst[1][n+1]\n",
        "    if (abs(x2-x1)<=dist_pixel) and (abs(y2-y1)<=dist_pixel):\n",
        "      pixel_counter +=1\n",
        "      one_pixel_dist=True\n",
        "    else:\n",
        "      if not one_pixel_dist:\n",
        "        frame[fst[0][n],fst[1][n]]=0\n",
        "      else:\n",
        "        one_pixel_dist=False\n",
        "        continue\n",
        "\n",
        "    n+=1\n",
        "  return frame\n"
      ],
      "metadata": {
        "id": "ZENCKhhCsdfM"
      },
      "execution_count": null,
      "outputs": []
    },
    {
      "cell_type": "markdown",
      "source": [
        "### PRE"
      ],
      "metadata": {
        "id": "3PsLvLe4pxcB"
      }
    },
    {
      "cell_type": "code",
      "source": [
        "FULL_IMG =[]\n",
        "\n",
        "# Read video\n",
        "video = cv2.VideoCapture(\"/content/drive/MyDrive/BUTTERFLY/Butterfly_1_long.mp4\")\n",
        "video = cv2.VideoCapture(\"/content/drive/MyDrive/BUTTERFLY/Butterfly_2.mp4\")\n",
        "#video =  cv2.VideoCapture(\"/content/drive/MyDrive/BUTTERFLY/Butterfly_3.mp4\")\n",
        "\n",
        "while True:\n",
        "  # Read a new frame\n",
        "  ok, frame = video.read()\n",
        "  if not ok:\n",
        "      break\n",
        "  \n",
        "  frame = cv2.resize(frame, (frame.shape[1]//3, frame.shape[0]//3))\n",
        "  FULL_IMG.append(frame)\n",
        "full_imgs = np.array(FULL_IMG)\n",
        "print(full_imgs.shape)\n",
        "\n",
        "del FULL_IMG\n",
        "\n",
        "print(format_bytes(full_imgs.size))\n",
        "cv2_imshow(full_imgs[0,...,0])"
      ],
      "metadata": {
        "colab": {
          "base_uri": "https://localhost:8080/"
        },
        "id": "xCXX0JuICO8p",
        "outputId": "d13dddf0-b208-4cb4-bacc-7759599def4b"
      },
      "execution_count": null,
      "outputs": [
        {
          "output_type": "stream",
          "name": "stdout",
          "text": [
            "(1546, 360, 640, 3)\n"
          ]
        }
      ]
    },
    {
      "cell_type": "code",
      "source": [
        "full_imgs_0 = full_imgs[...,0] #Taking only the blue channel\n",
        "\n",
        "del full_imgs #because of memory issues\n",
        "print(format_bytes(full_imgs_0.size))\n",
        "print(full_imgs_0.shape)"
      ],
      "metadata": {
        "colab": {
          "base_uri": "https://localhost:8080/"
        },
        "id": "id4NJ6dUNtle",
        "outputId": "a5d804ac-1b0c-4261-f764-286225cb8d55"
      },
      "execution_count": null,
      "outputs": [
        {
          "output_type": "stream",
          "name": "stdout",
          "text": [
            "(339.697265625, 'megabytes')\n",
            "(1546, 360, 640)\n"
          ]
        }
      ]
    },
    {
      "cell_type": "code",
      "source": [
        "clrs = ['red', 'green', 'blue', 'white','black','purple','cyan', 'yellow', 'purple',]\n",
        "remove_green=True\n",
        "remove_blue=False\n",
        "\n",
        "diff = 1 #Difference between Frames\n",
        "print('Difference between frames:',diff)\n",
        "\n",
        "\n",
        "STRT=0\n",
        "END=700 #adjust based on RAM\n",
        "\n",
        "kd_cyp = func_kdtree(diff,full_imgs_0[STRT:END],clrs,remove_green=remove_green,remove_blue=remove_blue,\n",
        "                           REDUCED_COLOR_SPACE = True)\n",
        "\n",
        "print(kd_cyp.shape)\n",
        "print(format_bytes(kd_cyp.size))\n",
        "\n",
        "del full_imgs_0"
      ],
      "metadata": {
        "colab": {
          "base_uri": "https://localhost:8080/"
        },
        "id": "lV1W8ra8CMIv",
        "outputId": "0d02baf3-798a-4440-f4bf-cdc6fbdd1681"
      },
      "execution_count": null,
      "outputs": [
        {
          "output_type": "stream",
          "name": "stdout",
          "text": [
            "Difference between frames: 1\n",
            "(698, 360, 640, 3)\n",
            "(460.107421875, 'megabytes')\n"
          ]
        }
      ]
    },
    {
      "cell_type": "code",
      "source": [
        "cv2_imshow(kd_cyp[0]) #First Frame\n",
        "#Wherever there are colored pixels, those pixels represent motion"
      ],
      "metadata": {
        "colab": {
          "base_uri": "https://localhost:8080/",
          "height": 377
        },
        "id": "xcLd05ljmUaJ",
        "outputId": "521ccd16-9b8d-41af-a666-86c76055abd5"
      },
      "execution_count": null,
      "outputs": [
        {
          "output_type": "display_data",
          "data": {
            "text/plain": [
              "<PIL.Image.Image image mode=RGB size=640x360 at 0x7FB559B434F0>"
            ],
            "image/png": "[encoded data removed]"
          },
          "metadata": {}
        }
      ]
    },
    {
      "cell_type": "code",
      "source": [
        "#Filtering white and black pixels \n",
        "only_white = np.all(kd_cyp==255,axis=-1) #white pixels=True & (black and colored pixels=False)\n",
        "only_black = np.all(kd_cyp==0,axis=-1) #black pixels=True & (white and colored pixels=False)\n",
        "\n",
        "#XOR\n",
        "#Apply xor between only_white and only_black results in all colored pixels=False\n",
        "#and convert it to 0s and 1s and after applying the NOT operation:\n",
        "#0s=white&black pixels, 1s=colored pixels\n",
        "xor_int = np.logical_not(np.logical_xor(only_white,only_black)).astype('uint8')\n",
        "print(xor_int.shape)\n",
        "unique, counts = np.unique(xor_int, return_counts=True)\n",
        "print(dict(zip(unique, counts)))\n",
        "print()\n",
        "#0s=colored_pixels\n",
        "#1s=black&white pixels"
      ],
      "metadata": {
        "colab": {
          "base_uri": "https://localhost:8080/"
        },
        "id": "HcYpcuQ5M5mP",
        "outputId": "05a1d498-904a-4c26-d48e-3bdd767c9ed9"
      },
      "execution_count": null,
      "outputs": [
        {
          "output_type": "stream",
          "name": "stdout",
          "text": [
            "(698, 360, 640)\n",
            "{0: 160594610, 1: 224590}\n",
            "\n"
          ]
        }
      ]
    },
    {
      "cell_type": "code",
      "source": [
        "NN=0\n",
        "frame = np.copy(xor_int[NN])\n",
        "print(\"BEFORE REMOVING ISOLATED SINGLE PIXELS:\")\n",
        "unique, counts = np.unique(frame, return_counts=True)\n",
        "print(dict(zip(unique, counts)))\n",
        "print()\n",
        "\n",
        "frame = single_isolated_pixels_strip_AND(frame)\n",
        "print('FIRST REMOVAL:')\n",
        "unique, counts = np.unique(frame, return_counts=True)\n",
        "print(dict(zip(unique, counts)))\n",
        "\n",
        "NN=5\n",
        "framex = np.copy(xor_int[NN])\n",
        "fst = np.where(framex==1)\n",
        "print(fst[0].shape,fst[1].shape)\n",
        "cv2_imshow(framex*255)\n",
        "print()\n",
        "print('SECOND REMOVAL:')\n",
        "cv2_imshow(single_isolated_pixels_strip_AND(frame)*255)"
      ],
      "metadata": {
        "colab": {
          "base_uri": "https://localhost:8080/",
          "height": 876
        },
        "id": "JrQtVQ7dU8mx",
        "outputId": "8108ddeb-b41c-48ec-c51f-1db7c3ea832a"
      },
      "execution_count": null,
      "outputs": [
        {
          "output_type": "stream",
          "name": "stdout",
          "text": [
            "BEFORE REMOVING ISOLATED SINGLE PIXELS:\n",
            "{0: 230237, 1: 163}\n",
            "\n",
            "FIRST REMOVAL:\n",
            "{0: 230395, 1: 5}\n",
            "(104,) (104,)\n"
          ]
        },
        {
          "output_type": "display_data",
          "data": {
            "text/plain": [
              "<PIL.Image.Image image mode=L size=640x360 at 0x7FB5579EFD60>"
            ],
            "image/png": "[encoded data removed]"
          },
          "metadata": {}
        },
        {
          "output_type": "stream",
          "name": "stdout",
          "text": [
            "\n",
            "SECOND REMOVAL:\n"
          ]
        },
        {
          "output_type": "display_data",
          "data": {
            "text/plain": [
              "<PIL.Image.Image image mode=L size=640x360 at 0x7FB556F7EA90>"
            ],
            "image/png": "[encoded data removed]"
          },
          "metadata": {}
        }
      ]
    },
    {
      "cell_type": "code",
      "source": [
        "#We see how above how isolated pixels are removed"
      ],
      "metadata": {
        "id": "ziSIv17oSFrG"
      },
      "execution_count": null,
      "outputs": []
    },
    {
      "cell_type": "code",
      "source": [
        "only_white = np.all(kd_cyp==255,axis=-1)\n",
        "only_black = np.all(kd_cyp==0,axis=-1)\n",
        "\n",
        "#XOR\n",
        "xor_int = np.logical_not(np.logical_xor(only_white,only_black)).astype('uint8')\n",
        "print(xor_int.shape)\n",
        "unique, counts = np.unique(xor_int, return_counts=True)\n",
        "print(dict(zip(unique, counts)))\n",
        "print()\n",
        "\n",
        "DIST_PIXEL=1\n",
        "pixel_counter=0\n",
        "for no_frame in range(len(xor_int)):\n",
        "  single_isolated_pixels_strip_AND(xor_int[no_frame])\n",
        "\n",
        "\n",
        "unique, counts = np.unique(xor_int, return_counts=True)\n",
        "print(dict(zip(unique, counts)))\n",
        "\n",
        "#print(BRIGHTNESS,CONTRAST)\n",
        "para_xor = np.sum(xor_int==1,axis=0)\n",
        "fill1 = np.full((para_xor.shape), 0,dtype=int)\n",
        "#print(fill1.shape)\n",
        "\n",
        "fill1[para_xor>=1]=255\n",
        "cv2_imshow(fill1)"
      ],
      "metadata": {
        "colab": {
          "base_uri": "https://localhost:8080/",
          "height": 446
        },
        "id": "AMnUH-vSmu0b",
        "outputId": "4452b90c-6915-43d0-f605-0592f609ecfb"
      },
      "execution_count": null,
      "outputs": [
        {
          "output_type": "stream",
          "name": "stdout",
          "text": [
            "(698, 360, 640)\n",
            "{0: 160594610, 1: 224590}\n",
            "\n",
            "{0: 160812028, 1: 7172}\n"
          ]
        },
        {
          "output_type": "display_data",
          "data": {
            "text/plain": [
              "<PIL.Image.Image image mode=L size=640x360 at 0x7FB556F73850>"
            ],
            "image/png": "[encoded data removed]"
          },
          "metadata": {}
        }
      ]
    },
    {
      "cell_type": "code",
      "source": [
        "only_white = np.all(kd_cyp==255,axis=-1)\n",
        "only_black = np.all(kd_cyp==0,axis=-1)\n",
        "\n",
        "#XOR\n",
        "xor_int = np.logical_not(np.logical_xor(only_white,only_black)).astype('uint8')\n",
        "print(xor_int.shape)\n",
        "unique, counts = np.unique(xor_int, return_counts=True)\n",
        "print(dict(zip(unique, counts)))\n",
        "print()\n",
        "\n",
        "DIST_PIXEL=1\n",
        "pixel_counter=0\n",
        "for no_frame in range(len(xor_int)):\n",
        "  single_isolated_pixels_strip_AND(xor_int[no_frame])\n",
        "\n",
        "\n",
        "unique, counts = np.unique(xor_int, return_counts=True)\n",
        "print(dict(zip(unique, counts)))\n",
        "\n",
        "#print(BRIGHTNESS,CONTRAST)\n",
        "para_xor = np.sum(xor_int==1,axis=0)\n",
        "fill1 = np.full((para_xor.shape), 0,dtype=int)\n",
        "#print(fill1.shape)\n",
        "\n",
        "fill1[para_xor>=2]=255\n",
        "cv2_imshow(fill1)"
      ],
      "metadata": {
        "colab": {
          "base_uri": "https://localhost:8080/",
          "height": 446
        },
        "id": "kqrB5BVVTU5n",
        "outputId": "518ce0bf-3bb1-4a40-9996-3522895bf116"
      },
      "execution_count": null,
      "outputs": [
        {
          "output_type": "stream",
          "name": "stdout",
          "text": [
            "(698, 360, 640)\n",
            "{0: 160594610, 1: 224590}\n",
            "\n",
            "{0: 160812028, 1: 7172}\n"
          ]
        },
        {
          "output_type": "display_data",
          "data": {
            "text/plain": [
              "<PIL.Image.Image image mode=L size=640x360 at 0x7FB559B19CA0>"
            ],
            "image/png": "[encoded data removed]"
          },
          "metadata": {}
        }
      ]
    },
    {
      "cell_type": "code",
      "source": [],
      "metadata": {
        "id": "v_7AVimJTo0S"
      },
      "execution_count": null,
      "outputs": []
    },
    {
      "cell_type": "code",
      "source": [
        "xor_temp = xor_int.astype(int)\n",
        "single_frame = np.full((para_xor.shape), 0,dtype=int)\n",
        "print(single_frame.shape)\n",
        "for n in range(len(xor_temp)):\n",
        "  xor_temp[n] |= single_frame\n",
        "  single_frame |= xor_temp[n]\n",
        "  #print(np.sum(single_frame))\n",
        "print(xor_temp.shape,xor_temp.max())\n",
        "\n",
        "xor_temp[xor_temp>0]=255"
      ],
      "metadata": {
        "colab": {
          "base_uri": "https://localhost:8080/"
        },
        "id": "NWMBA_qTbVLZ",
        "outputId": "3108333d-a840-4779-afae-373cad380c94"
      },
      "execution_count": null,
      "outputs": [
        {
          "output_type": "stream",
          "name": "stdout",
          "text": [
            "(360, 640)\n",
            "(844, 360, 640) 1\n"
          ]
        }
      ]
    },
    {
      "cell_type": "code",
      "source": [
        "cv2_imshow(xor_temp[640])"
      ],
      "metadata": {
        "colab": {
          "base_uri": "https://localhost:8080/",
          "height": 377
        },
        "id": "ZNZN2_02eLeC",
        "outputId": "467c447e-b4c9-496b-c4b1-d2244c0c8181"
      },
      "execution_count": null,
      "outputs": [
        {
          "output_type": "display_data",
          "data": {
            "text/plain": [
              "<PIL.Image.Image image mode=L size=640x360 at 0x7FE095DBA880>"
            ],
            "image/png": "[encoded data removed]"
          },
          "metadata": {}
        }
      ]
    },
    {
      "cell_type": "code",
      "source": [
        "imgs_700_ = xor_temp.astype('uint8')\n",
        "print(imgs_700_.shape)\n",
        "np.save('imgs_700_2.npy',imgs_700_)"
      ],
      "metadata": {
        "colab": {
          "base_uri": "https://localhost:8080/"
        },
        "id": "Utw3aIKZy7P5",
        "outputId": "36f6d5b3-5c36-40e4-b8e7-726d50f35610"
      },
      "execution_count": null,
      "outputs": [
        {
          "output_type": "stream",
          "name": "stdout",
          "text": [
            "(844, 360, 640)\n"
          ]
        }
      ]
    },
    {
      "cell_type": "markdown",
      "source": [
        "### COMBINE NPY FILES"
      ],
      "metadata": {
        "id": "l7ziBnuwVESp"
      }
    },
    {
      "cell_type": "code",
      "source": [
        "def multiple_strip(ST,len_xx,N_FRAMES,single_frame1,XX):\n",
        "  MULTIPLE_FRAMES = np.full((1,360,640), 0,dtype=int)\n",
        "\n",
        "  for start in range(ST,len_xx,N_FRAMES):\n",
        "    if start+N_FRAMES<=(len_xx-1):\n",
        "      pass\n",
        "    else:\n",
        "      N_FRAMES= len_xx - start \n",
        "      #frames = XX[start:].astype('int')\n",
        "      print(start,N_FRAMES,len_xx,)\n",
        "    frames = XX[start:(start+N_FRAMES)].astype('int')\n",
        " \n",
        "\n",
        "    single_frame = np.full((360,640), 0,dtype=int)\n",
        "    mul_frames = np.full((frames.shape), 0,dtype=int)\n",
        "\n",
        "    for n in range(len(frames)):\n",
        "      frames[n] |= single_frame\n",
        "      single_frame |= frames[n]\n",
        "    strip_frame = single_strip_AND(single_frame)\n",
        "    \n",
        "\n",
        "    for n1 in range(len(frames)):\n",
        "      #frames[n1][strip_frame==0]=0\n",
        "      frames[n1][strip_frame==0]=0\n",
        "      frames[n1] |= single_frame1\n",
        "      single_frame1 |= frames[n1]\n",
        "    \n",
        "    MULTIPLE_FRAMES = np.concatenate([MULTIPLE_FRAMES,frames]) \n",
        "  return MULTIPLE_FRAMES"
      ],
      "metadata": {
        "id": "o_rGz4HArVYR"
      },
      "execution_count": null,
      "outputs": []
    },
    {
      "cell_type": "code",
      "source": [
        "#import os, glob\n",
        "#glob.glob('./*.npy')"
      ],
      "metadata": {
        "colab": {
          "base_uri": "https://localhost:8080/"
        },
        "id": "yZiP_vbFwRfT",
        "outputId": "99767cb7-c3c5-40f3-9f8c-e32d0de03aa1"
      },
      "execution_count": null,
      "outputs": [
        {
          "output_type": "execute_result",
          "data": {
            "text/plain": [
              "['./imgs3_800_2.npy',\n",
              " './imgs3_800_1.npy',\n",
              " './imgs3_800_3.npy',\n",
              " './imgs3_800_4.npy',\n",
              " './imgs3_1500_1.npy']"
            ]
          },
          "metadata": {},
          "execution_count": 7
        }
      ]
    },
    {
      "cell_type": "code",
      "source": [
        "x1 = np.load('/content/imgs_700_1.npy')\n",
        "x2 = np.load('/content/imgs_700_2.npy')\n",
        "#x3 = np.load('/content/imgs_700_3.npy')\n",
        "#x4 = np.load('/content/imgs_700_4.npy')\n",
        "print(x1.shape,x2.shape,)#x3.shape,x4.shape)\n",
        "XX = np.concatenate([x1,x2,])\n",
        "XX[XX==255]=1\n",
        "print(XX.shape)\n",
        "print(format_bytes(XX.size))"
      ],
      "metadata": {
        "colab": {
          "base_uri": "https://localhost:8080/"
        },
        "id": "fFTji2C2VNGO",
        "outputId": "7a347673-4a64-44ba-f28f-5a12990caa47"
      },
      "execution_count": null,
      "outputs": [
        {
          "output_type": "stream",
          "name": "stdout",
          "text": [
            "(698, 360, 640) (844, 360, 640)\n",
            "(1542, 360, 640)\n",
            "(338.818359375, 'megabytes')\n"
          ]
        }
      ]
    },
    {
      "cell_type": "code",
      "source": [
        "READ_LAST_FRAME=False\n",
        "\n",
        "if READ_LAST_FRAME:\n",
        "  single_frame1 = np.load('/content/imgs_700_1x.npy')[-1].astype('int')\n",
        "  #single_frame1 = x1[-1].astype('int')\n",
        "else:\n",
        "  single_frame1 = np.full((360,640), 0,dtype=int)\n",
        "\n",
        "\n",
        "N_FRAMES=10\n",
        "ST=0\n",
        "END = 700\n",
        "len_xx = len(XX[:END])\n",
        "print(len_xx)\n",
        "\n",
        "MUL_FRAMES = multiple_strip(ST,len_xx,N_FRAMES,single_frame1,XX)\n",
        "#print(MUL_FRAMES.shape)\n",
        "print('AFTER:')\n",
        "unique, counts = np.unique(MUL_FRAMES, return_counts=True)\n",
        "print(dict(zip(unique, counts)))\n",
        "#cv2_imshow([500]*255)\n",
        "MUL_FRAMES[MUL_FRAMES>0]=255\n",
        "cv2_imshow(MUL_FRAMES[-1])"
      ],
      "metadata": {
        "colab": {
          "base_uri": "https://localhost:8080/",
          "height": 446
        },
        "id": "o7_HxekmsdvB",
        "outputId": "adea2760-6fda-4c6d-89b6-7bc6882ea539"
      },
      "execution_count": null,
      "outputs": [
        {
          "output_type": "stream",
          "name": "stdout",
          "text": [
            "700\n",
            "690 10 700\n",
            "AFTER:\n",
            "{0: 161093643, 1: 416757}\n"
          ]
        },
        {
          "output_type": "display_data",
          "data": {
            "text/plain": [
              "<PIL.Image.Image image mode=L size=640x360 at 0x7FA1C88CAA30>"
            ],
            "image/png": "[encoded data removed]"
          },
          "metadata": {}
        }
      ]
    },
    {
      "cell_type": "code",
      "source": [
        "imgs_700_x = MUL_FRAMES.astype('uint8')\n",
        "print(imgs_700_x .shape)\n",
        "np.save('imgs_700_2x.npy',imgs_700_x )\n",
        "cv2_imshow(imgs_700_x[-1])"
      ],
      "metadata": {
        "colab": {
          "base_uri": "https://localhost:8080/",
          "height": 394
        },
        "id": "l1c0iNbB7q_F",
        "outputId": "b17b4a50-e98b-4772-a54c-9087b35f0392"
      },
      "execution_count": null,
      "outputs": [
        {
          "output_type": "stream",
          "name": "stdout",
          "text": [
            "(843, 360, 640)\n"
          ]
        },
        {
          "output_type": "display_data",
          "data": {
            "text/plain": [
              "<PIL.Image.Image image mode=L size=640x360 at 0x7FA1A682DDC0>"
            ],
            "image/png": "[encoded data removed]"
          },
          "metadata": {}
        }
      ]
    },
    {
      "cell_type": "code",
      "source": [
        "#imgs3_1500_2 = MULTIPLE_FRAMES.astype('uint8')\n",
        "#print(imgs3_1500_2.shape)\n",
        "#np.save('./imgs3_1500_2.npy',imgs3_1500_2)\n",
        "x1 = np.load('/content/imgs_700_1x.npy')\n",
        "x2 = np.load('/content/imgs_700_2x.npy')\n",
        "#x3 = np.load('/content/imgs_700_3x.npy')\n",
        "#x4 = np.load('/content/imgs_700_4x.npy')\n",
        "print(x1.shape,x2.shape)\n",
        "\n",
        "MULTIPLE_FRAMES = np.concatenate([x1,x2,],)\n",
        "print(MULTIPLE_FRAMES.shape)\n",
        "print(format_bytes(MULTIPLE_FRAMES.size))"
      ],
      "metadata": {
        "colab": {
          "base_uri": "https://localhost:8080/"
        },
        "id": "k2q_byo0xg7k",
        "outputId": "cbefc0c3-4c6c-44f5-8cad-6b7a96296de1"
      },
      "execution_count": null,
      "outputs": [
        {
          "output_type": "stream",
          "name": "stdout",
          "text": [
            "(701, 360, 640) (843, 360, 640)\n",
            "(1544, 360, 640)\n",
            "(339.2578125, 'megabytes')\n"
          ]
        }
      ]
    },
    {
      "cell_type": "code",
      "source": [
        "cv2_imshow(MULTIPLE_FRAMES[-1])"
      ],
      "metadata": {
        "colab": {
          "base_uri": "https://localhost:8080/",
          "height": 377
        },
        "id": "ub2e7xME9EYI",
        "outputId": "c8724f8d-9a8b-4bb2-f430-1b49fbbbc574"
      },
      "execution_count": null,
      "outputs": [
        {
          "output_type": "display_data",
          "data": {
            "text/plain": [
              "<PIL.Image.Image image mode=L size=640x360 at 0x7FA1C9C0B250>"
            ],
            "image/png": "[encoded data removed]"
          },
          "metadata": {}
        }
      ]
    },
    {
      "cell_type": "code",
      "source": [
        "diff=1\n",
        "#Create GIFS\n",
        "#imgs = np.random.randint(0, 255, (100, 50, 50, 3), dtype=np.uint8)\n",
        "#imgs = np.array(XOR_IMG).astype('uint8')\n",
        "#imgs = MULTIPLE_FRAMES.astype('uint8')\n",
        "#images = xor_int\n",
        "#imgs = [Image.fromarray(img) for img in imgs ]\n",
        "# duration is the number of milliseconds between frames; this is 40 frames per second\n",
        "#imgs[0].save(f'DIFF{diff}butterfly_3_full.gif', save_all=True, append_images=imgs[1:], duration=1, loop=0)"
      ],
      "metadata": {
        "id": "FE1tQxJ5Vms8"
      },
      "execution_count": null,
      "outputs": []
    },
    {
      "cell_type": "code",
      "source": [
        "diff=1\n",
        "imgs = MULTIPLE_FRAMES.astype('uint8')\n",
        "#imageio.mimsave('./butterfly_3_imageio2.gif', imgs,duration = 0.004)\n",
        "imageio.mimsave('./butterfly_2_imageio_120.mp4', imgs,fps=120)"
      ],
      "metadata": {
        "id": "WQUXGfKaphWJ",
        "colab": {
          "base_uri": "https://localhost:8080/"
        },
        "outputId": "3abf3279-f105-442c-9f97-730af5e47510"
      },
      "execution_count": null,
      "outputs": [
        {
          "output_type": "stream",
          "name": "stderr",
          "text": [
            "WARNING:imageio_ffmpeg:IMAGEIO FFMPEG_WRITER WARNING: input image is not divisible by macro_block_size=16, resizing from (640, 360) to (640, 368) to ensure video compatibility with most codecs and players. To prevent resizing, make your input image divisible by the macro_block_size or set the macro_block_size to 1 (risking incompatibility).\n"
          ]
        }
      ]
    }
  ]
}